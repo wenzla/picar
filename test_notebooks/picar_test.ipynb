{
 "cells": [
  {
   "cell_type": "code",
   "execution_count": 224,
   "id": "metallic-associate",
   "metadata": {
    "ExecuteTime": {
     "end_time": "2023-02-03T19:39:26.132096Z",
     "start_time": "2023-02-03T19:39:26.127130Z"
    }
   },
   "outputs": [],
   "source": [
    "import numpy as np\n",
    "import math\n",
    "# import networkx as nx\n",
    "np.set_printoptions(edgeitems=30, linewidth=100)\n",
    "\n",
    "from matplotlib import pyplot as plt\n",
    "from matplotlib.pyplot import figure\n",
    "import itertools\n",
    "%matplotlib inline "
   ]
  },
  {
   "cell_type": "code",
   "execution_count": 225,
   "id": "acceptable-delight",
   "metadata": {
    "ExecuteTime": {
     "end_time": "2023-02-03T19:39:26.318435Z",
     "start_time": "2023-02-03T19:39:26.314466Z"
    }
   },
   "outputs": [],
   "source": [
    "test = [26.9,26.93,27.26, 26.88, 27.72, 29.26, 42.37, 41.93, 42.47, 41.78, 42.67, 43.66, -2]\n",
    "angles = np.deg2rad(np.arange(-60,70,10)) #in radians"
   ]
  },
  {
   "cell_type": "code",
   "execution_count": 226,
   "id": "smoking-brisbane",
   "metadata": {
    "ExecuteTime": {
     "end_time": "2023-02-03T19:39:26.536700Z",
     "start_time": "2023-02-03T19:39:26.523735Z"
    }
   },
   "outputs": [
    {
     "data": {
      "text/plain": [
       "(array([ 9.,  9., 10., 11., 12., 12., 14., 15., 16., 18., 19., 20., 13.]),\n",
       " array([ 2.,  3.,  4.,  4.,  5.,  5.,  8.,  8.,  7.,  7.,  6.,  5., -1.]))"
      ]
     },
     "execution_count": 226,
     "metadata": {},
     "output_type": "execute_result"
    }
   ],
   "source": [
    "((np.sin(angles) * test)//5)+14, (np.cos(angles) * test)//5"
   ]
  },
  {
   "cell_type": "code",
   "execution_count": 227,
   "id": "heavy-texture",
   "metadata": {
    "ExecuteTime": {
     "end_time": "2023-02-03T19:39:26.925672Z",
     "start_time": "2023-02-03T19:39:26.912665Z"
    }
   },
   "outputs": [],
   "source": [
    "xvals = (np.round((np.sin(angles) * test)/5, 0)+14).astype(int)\n",
    "yvals = ((np.cos(angles) * test)//5).astype(int)\n"
   ]
  },
  {
   "cell_type": "markdown",
   "id": "waiting-pricing",
   "metadata": {},
   "source": [
    "## Mapping "
   ]
  },
  {
   "cell_type": "code",
   "execution_count": 228,
   "id": "fourth-hours",
   "metadata": {
    "ExecuteTime": {
     "end_time": "2023-02-03T19:39:30.000479Z",
     "start_time": "2023-02-03T19:39:29.981072Z"
    }
   },
   "outputs": [
    {
     "data": {
      "text/plain": [
       "array([[0, 0, 0, 0, 0, 0, 0, 0, 0, 0, 0, 0, 0, 0, 9, 0, 0, 0, 0, 0, 0, 0, 0, 0, 0, 0, 0, 0, 0, 0],\n",
       "       [0, 0, 0, 0, 0, 0, 0, 0, 0, 0, 0, 0, 0, 0, 0, 0, 0, 0, 0, 0, 0, 0, 0, 0, 0, 0, 0, 0, 0, 0],\n",
       "       [0, 0, 0, 0, 0, 0, 0, 0, 0, 0, 0, 0, 0, 0, 0, 0, 0, 0, 0, 0, 0, 0, 0, 0, 0, 0, 0, 0, 0, 0],\n",
       "       [0, 0, 0, 0, 0, 0, 0, 0, 0, 0, 0, 0, 0, 0, 0, 0, 0, 0, 0, 0, 0, 0, 0, 0, 0, 0, 0, 0, 0, 0],\n",
       "       [0, 0, 0, 0, 0, 0, 0, 0, 0, 0, 0, 0, 0, 0, 0, 0, 0, 0, 0, 0, 0, 0, 0, 0, 0, 0, 0, 0, 0, 0],\n",
       "       [0, 0, 0, 0, 0, 0, 0, 0, 0, 0, 0, 0, 0, 0, 0, 0, 0, 0, 0, 0, 0, 0, 0, 0, 0, 0, 0, 0, 0, 0],\n",
       "       [0, 0, 0, 0, 0, 0, 0, 0, 0, 0, 0, 0, 0, 0, 0, 0, 0, 0, 0, 0, 0, 0, 0, 0, 0, 0, 0, 0, 0, 0],\n",
       "       [0, 0, 0, 0, 0, 0, 0, 0, 0, 0, 0, 0, 0, 0, 0, 0, 0, 0, 0, 0, 0, 0, 0, 0, 0, 0, 0, 0, 0, 0],\n",
       "       [0, 0, 0, 0, 0, 0, 0, 0, 0, 0, 0, 0, 0, 0, 0, 0, 0, 0, 0, 0, 0, 0, 0, 0, 0, 0, 0, 0, 0, 0],\n",
       "       [0, 0, 0, 0, 0, 0, 0, 0, 0, 0, 0, 0, 0, 0, 0, 0, 0, 0, 0, 0, 0, 0, 0, 0, 0, 0, 0, 0, 0, 0],\n",
       "       [0, 0, 0, 0, 0, 0, 0, 0, 0, 0, 0, 0, 0, 0, 0, 0, 0, 0, 0, 0, 0, 0, 0, 0, 0, 0, 0, 0, 0, 0],\n",
       "       [0, 0, 0, 0, 0, 0, 0, 0, 0, 0, 0, 0, 0, 0, 0, 0, 0, 0, 0, 0, 0, 0, 0, 0, 0, 0, 0, 0, 0, 0],\n",
       "       [0, 0, 0, 0, 0, 0, 0, 0, 0, 0, 0, 0, 0, 0, 0, 0, 0, 0, 0, 0, 0, 0, 0, 0, 0, 0, 0, 0, 0, 0],\n",
       "       [0, 0, 0, 0, 0, 0, 0, 0, 0, 0, 0, 0, 0, 0, 0, 0, 0, 0, 0, 0, 0, 0, 0, 0, 0, 0, 0, 0, 0, 0],\n",
       "       [0, 0, 0, 0, 0, 0, 0, 0, 0, 0, 0, 0, 0, 0, 0, 0, 0, 0, 0, 0, 0, 0, 0, 0, 0, 0, 0, 0, 0, 0],\n",
       "       [0, 0, 0, 0, 0, 0, 0, 0, 0, 0, 0, 0, 0, 0, 0, 0, 0, 0, 0, 0, 0, 0, 0, 0, 0, 0, 0, 0, 0, 0],\n",
       "       [0, 0, 0, 0, 0, 0, 0, 0, 0, 0, 0, 0, 0, 0, 0, 0, 0, 0, 0, 0, 0, 0, 0, 0, 0, 0, 0, 0, 0, 0],\n",
       "       [0, 0, 0, 0, 0, 0, 0, 0, 0, 0, 0, 0, 0, 0, 0, 0, 0, 0, 0, 0, 0, 0, 0, 0, 0, 0, 0, 0, 0, 0],\n",
       "       [0, 0, 0, 0, 0, 0, 0, 0, 0, 0, 0, 0, 0, 0, 0, 0, 0, 0, 0, 0, 0, 0, 0, 0, 0, 0, 0, 0, 0, 0],\n",
       "       [0, 0, 0, 0, 0, 0, 0, 0, 0, 0, 0, 0, 0, 0, 0, 0, 0, 0, 0, 0, 0, 0, 0, 0, 0, 0, 0, 0, 0, 0],\n",
       "       [0, 0, 0, 0, 0, 0, 0, 0, 0, 0, 0, 0, 0, 0, 9, 0, 0, 0, 0, 0, 0, 0, 0, 0, 0, 0, 0, 0, 0, 0],\n",
       "       [0, 0, 0, 0, 0, 0, 0, 0, 0, 0, 0, 0, 0, 0, 0, 0, 0, 0, 0, 0, 0, 0, 0, 0, 0, 0, 0, 0, 0, 0],\n",
       "       [0, 0, 0, 0, 0, 0, 0, 0, 0, 0, 0, 0, 0, 0, 0, 0, 0, 0, 0, 0, 0, 0, 0, 0, 0, 0, 0, 0, 0, 0],\n",
       "       [0, 0, 0, 0, 0, 0, 0, 0, 0, 0, 0, 0, 0, 0, 0, 0, 0, 0, 0, 0, 0, 0, 0, 0, 0, 0, 0, 0, 0, 0],\n",
       "       [0, 0, 0, 0, 0, 0, 0, 0, 0, 0, 0, 0, 0, 0, 0, 0, 0, 0, 0, 0, 0, 0, 0, 0, 0, 0, 0, 0, 0, 0],\n",
       "       [0, 0, 0, 0, 0, 0, 0, 0, 0, 0, 0, 0, 0, 0, 0, 0, 0, 0, 0, 0, 0, 0, 0, 0, 0, 0, 0, 0, 0, 0],\n",
       "       [0, 0, 0, 0, 0, 0, 0, 0, 0, 0, 0, 0, 0, 0, 0, 0, 0, 0, 0, 0, 0, 0, 0, 0, 0, 0, 0, 0, 0, 0],\n",
       "       [0, 0, 0, 0, 0, 0, 0, 0, 0, 0, 0, 0, 0, 0, 0, 0, 0, 0, 0, 0, 0, 0, 0, 0, 0, 0, 0, 0, 0, 0],\n",
       "       [0, 0, 0, 0, 0, 0, 0, 0, 0, 0, 0, 0, 0, 0, 0, 0, 0, 0, 0, 0, 0, 0, 0, 0, 0, 0, 0, 0, 0, 0],\n",
       "       [0, 0, 0, 0, 0, 0, 0, 0, 0, 0, 0, 0, 0, 0, 0, 0, 0, 0, 0, 0, 0, 0, 0, 0, 0, 0, 0, 0, 0, 0]])"
      ]
     },
     "execution_count": 228,
     "metadata": {},
     "output_type": "execute_result"
    }
   ],
   "source": [
    "mapping = np.zeros([30,30], dtype='int')\n",
    "\n",
    "# start = (0,14)\n",
    "# goal = (20,14)\n",
    "mapping[0][14] = 9\n",
    "mapping[20][14] = 9\n",
    "mapping"
   ]
  },
  {
   "cell_type": "code",
   "execution_count": 229,
   "id": "coordinated-scientist",
   "metadata": {
    "ExecuteTime": {
     "end_time": "2023-02-03T19:39:32.943442Z",
     "start_time": "2023-02-03T19:39:32.933445Z"
    },
    "code_folding": [
     0,
     17,
     32
    ]
   },
   "outputs": [],
   "source": [
    "def check_way(p1,p2):\n",
    "    dec0=False\n",
    "    dec1=False\n",
    "    inc0=False\n",
    "    inc1=False\n",
    "    \n",
    "    if p1[0] < p2[0]:\n",
    "        inc0=True\n",
    "    elif p1[0] > p2[0]:\n",
    "        dec0=True\n",
    "\n",
    "    if p1[1] < p2[1]:\n",
    "        inc1=True\n",
    "    elif p1[1] > p2[1]:\n",
    "        dec1=True\n",
    "    return inc0, dec0, inc1, dec1\n",
    "\n",
    "def incremental_step(newp, p2, inc0, dec0, inc1, dec1):\n",
    "    add0 = 1\n",
    "    add1 = 1\n",
    "    if dec0:\n",
    "        add0 = -1\n",
    "    if dec1:\n",
    "        add1 = -1\n",
    "        \n",
    "    if math.dist([newp[0]+add0, newp[1]], p2) > math.dist([newp[0], newp[1]+add1], p2):\n",
    "        newp[1] += add1\n",
    "    else:\n",
    "        newp[0] += add0\n",
    "        \n",
    "    return newp\n",
    "\n",
    "def get_manhattan(p1, p2):\n",
    "    if (math.dist(p1,p2)) < 4:\n",
    "        inc0, dec0, inc1, dec1 = check_way(p1,p2)\n",
    "        \n",
    "        newp = p1\n",
    "        path_list = []\n",
    "        times = 0\n",
    "        \n",
    "        while (math.dist(newp, p2) > 0) and (times < 6):\n",
    "            newp = incremental_step(newp, p2, inc0, dec0, inc1, dec1)\n",
    "            path_list.append(newp.copy())\n",
    "            inc0, dec0, inc1, dec1 = check_way(p1,p2)\n",
    "            times += 1\n",
    "            \n",
    "        if times == 7:\n",
    "            return None\n",
    "        else:\n",
    "            return path_list[:-1]#remove last element\n",
    "        \n",
    "    return None\n"
   ]
  },
  {
   "cell_type": "code",
   "execution_count": 230,
   "id": "incomplete-laugh",
   "metadata": {
    "ExecuteTime": {
     "end_time": "2023-02-03T19:39:33.315827Z",
     "start_time": "2023-02-03T19:39:33.298854Z"
    },
    "code_folding": [
     0
    ]
   },
   "outputs": [],
   "source": [
    "def make_scan_list(possible):\n",
    "    \n",
    "    scan_list = []\n",
    "    temp = [list(p) for p in possible if p[0] != -1]\n",
    "    \n",
    "    for i in range(len(temp)-1):\n",
    "        scan_list.append(temp[i])\n",
    "        \n",
    "        for path in get_manhattan(temp[i], temp[i+1]):\n",
    "            scan_list.append(path)\n",
    "        \n",
    "    scan_list.append(temp[-1])\n",
    "    \n",
    "    return scan_list\n",
    "\n",
    "# make_scan_list(list(zip(yvals, xvals))) "
   ]
  },
  {
   "cell_type": "code",
   "execution_count": 233,
   "id": "alert-lying",
   "metadata": {
    "ExecuteTime": {
     "end_time": "2023-02-03T19:40:40.976776Z",
     "start_time": "2023-02-03T19:40:40.964802Z"
    },
    "code_folding": [
     0
    ]
   },
   "outputs": [
    {
     "data": {
      "text/plain": [
       "array([[0, 0, 0, 0, 0, 0, 0, 0, 0, 0, 0, 0, 0, 0, 9, 0, 0, 0, 0, 0, 0, 0, 0, 0, 0, 0, 0, 0, 0, 0],\n",
       "       [0, 0, 0, 0, 0, 0, 0, 0, 0, 0, 0, 0, 0, 0, 0, 0, 0, 0, 0, 0, 0, 0, 0, 0, 0, 0, 0, 0, 0, 0],\n",
       "       [0, 0, 0, 0, 0, 0, 0, 0, 5, 5, 5, 5, 0, 0, 0, 0, 0, 0, 0, 0, 0, 0, 0, 0, 0, 0, 0, 0, 0, 0],\n",
       "       [0, 0, 0, 0, 0, 0, 0, 0, 5, 5, 5, 5, 5, 0, 0, 0, 0, 0, 0, 0, 0, 0, 0, 0, 0, 0, 0, 0, 0, 0],\n",
       "       [0, 0, 0, 0, 0, 0, 0, 0, 5, 5, 5, 5, 5, 5, 5, 0, 0, 0, 0, 5, 5, 5, 5, 0, 0, 0, 0, 0, 0, 0],\n",
       "       [0, 0, 0, 0, 0, 0, 0, 0, 0, 5, 5, 5, 5, 5, 5, 0, 0, 5, 5, 5, 5, 5, 5, 0, 0, 0, 0, 0, 0, 0],\n",
       "       [0, 0, 0, 0, 0, 0, 0, 0, 0, 0, 5, 5, 5, 5, 5, 5, 5, 5, 5, 5, 5, 5, 5, 0, 0, 0, 0, 0, 0, 0],\n",
       "       [0, 0, 0, 0, 0, 0, 0, 0, 0, 0, 0, 0, 5, 5, 5, 5, 5, 5, 5, 5, 5, 5, 0, 0, 0, 0, 0, 0, 0, 0],\n",
       "       [0, 0, 0, 0, 0, 0, 0, 0, 0, 0, 0, 0, 5, 5, 5, 5, 5, 5, 5, 5, 0, 0, 0, 0, 0, 0, 0, 0, 0, 0],\n",
       "       [0, 0, 0, 0, 0, 0, 0, 0, 0, 0, 0, 0, 5, 5, 5, 5, 5, 5, 0, 0, 0, 0, 0, 0, 0, 0, 0, 0, 0, 0],\n",
       "       [0, 0, 0, 0, 0, 0, 0, 0, 0, 0, 0, 0, 0, 0, 0, 0, 0, 0, 0, 0, 0, 0, 0, 0, 0, 0, 0, 0, 0, 0],\n",
       "       [0, 0, 0, 0, 0, 0, 0, 0, 0, 0, 0, 0, 0, 0, 0, 0, 0, 0, 0, 0, 0, 0, 0, 0, 0, 0, 0, 0, 0, 0],\n",
       "       [0, 0, 0, 0, 0, 0, 0, 0, 0, 0, 0, 0, 0, 0, 0, 0, 0, 0, 0, 0, 0, 0, 0, 0, 0, 0, 0, 0, 0, 0],\n",
       "       [0, 0, 0, 0, 0, 0, 0, 0, 0, 0, 0, 0, 0, 0, 0, 0, 0, 0, 0, 0, 0, 0, 0, 0, 0, 0, 0, 0, 0, 0],\n",
       "       [0, 0, 0, 0, 0, 0, 0, 0, 0, 0, 0, 0, 0, 0, 0, 0, 0, 0, 0, 0, 0, 0, 0, 0, 0, 0, 0, 0, 0, 0],\n",
       "       [0, 0, 0, 0, 0, 0, 0, 0, 0, 0, 0, 0, 0, 0, 0, 0, 0, 0, 0, 0, 0, 0, 0, 0, 0, 0, 0, 0, 0, 0],\n",
       "       [0, 0, 0, 0, 0, 0, 0, 0, 0, 0, 0, 0, 0, 0, 0, 0, 0, 0, 0, 0, 0, 0, 0, 0, 0, 0, 0, 0, 0, 0],\n",
       "       [0, 0, 0, 0, 0, 0, 0, 0, 0, 0, 0, 0, 0, 0, 0, 0, 0, 0, 0, 0, 0, 0, 0, 0, 0, 0, 0, 0, 0, 0],\n",
       "       [0, 0, 0, 0, 0, 0, 0, 0, 0, 0, 0, 0, 0, 0, 0, 0, 0, 0, 0, 0, 0, 0, 0, 0, 0, 0, 0, 0, 0, 0],\n",
       "       [0, 0, 0, 0, 0, 0, 0, 0, 0, 0, 0, 0, 0, 0, 0, 0, 0, 0, 0, 0, 0, 0, 0, 0, 0, 0, 0, 0, 0, 0],\n",
       "       [0, 0, 0, 0, 0, 0, 0, 0, 0, 0, 0, 0, 0, 0, 9, 0, 0, 0, 0, 0, 0, 0, 0, 0, 0, 0, 0, 0, 0, 0],\n",
       "       [0, 0, 0, 0, 0, 0, 0, 0, 0, 0, 0, 0, 0, 0, 0, 0, 0, 0, 0, 0, 0, 0, 0, 0, 0, 0, 0, 0, 0, 0],\n",
       "       [0, 0, 0, 0, 0, 0, 0, 0, 0, 0, 0, 0, 0, 0, 0, 0, 0, 0, 0, 0, 0, 0, 0, 0, 0, 0, 0, 0, 0, 0],\n",
       "       [0, 0, 0, 0, 0, 0, 0, 0, 0, 0, 0, 0, 0, 0, 0, 0, 0, 0, 0, 0, 0, 0, 0, 0, 0, 0, 0, 0, 0, 0],\n",
       "       [0, 0, 0, 0, 0, 0, 0, 0, 0, 0, 0, 0, 0, 0, 0, 0, 0, 0, 0, 0, 0, 0, 0, 0, 0, 0, 0, 0, 0, 0],\n",
       "       [0, 0, 0, 0, 0, 0, 0, 0, 0, 0, 0, 0, 0, 0, 0, 0, 0, 0, 0, 0, 0, 0, 0, 0, 0, 0, 0, 0, 0, 0],\n",
       "       [0, 0, 0, 0, 0, 0, 0, 0, 0, 0, 0, 0, 0, 0, 0, 0, 0, 0, 0, 0, 0, 0, 0, 0, 0, 0, 0, 0, 0, 0],\n",
       "       [0, 0, 0, 0, 0, 0, 0, 0, 0, 0, 0, 0, 0, 0, 0, 0, 0, 0, 0, 0, 0, 0, 0, 0, 0, 0, 0, 0, 0, 0],\n",
       "       [0, 0, 0, 0, 0, 0, 0, 0, 0, 0, 0, 0, 0, 0, 0, 0, 0, 0, 0, 0, 0, 0, 0, 0, 0, 0, 0, 0, 0, 0],\n",
       "       [0, 0, 0, 0, 0, 0, 0, 0, 0, 0, 0, 0, 0, 0, 0, 0, 0, 0, 0, 0, 0, 0, 0, 0, 0, 0, 0, 0, 0, 0]])"
      ]
     },
     "execution_count": 233,
     "metadata": {},
     "output_type": "execute_result"
    }
   ],
   "source": [
    "def make_safety_zone(x,y,mapping,marking=1):\n",
    "\n",
    "    mapping[x-1][y-1] = marking\n",
    "    mapping[x-1][y] = marking\n",
    "    mapping[x-1][y+1] = marking\n",
    "    \n",
    "    mapping[x][y-1] = marking\n",
    "    mapping[x][y] = marking\n",
    "    mapping[x][y+1] = marking\n",
    "    \n",
    "    mapping[x+1][y-1] = marking\n",
    "    mapping[x+1][y] = marking\n",
    "    mapping[x+1][y+1] = marking\n",
    "    \n",
    "    return mapping\n",
    "\n",
    "scan_list = make_scan_list(list(zip(yvals, xvals))) \n",
    "# scan_list = list(zip(yvals, xvals)) \n",
    "\n",
    "for pair in scan_list:\n",
    "    if pair[0] != -1:\n",
    "#         print(pair[0],pair[1])\n",
    "        mapping[pair[0]][pair[1]] = 5\n",
    "        mapping = make_safety_zone(pair[0],pair[1],mapping,5)\n",
    "    \n",
    "mapping"
   ]
  },
  {
   "cell_type": "code",
   "execution_count": 232,
   "id": "developed-incidence",
   "metadata": {
    "ExecuteTime": {
     "end_time": "2023-02-03T19:40:34.578549Z",
     "start_time": "2023-02-03T19:40:34.445544Z"
    }
   },
   "outputs": [
    {
     "data": {
      "image/png": "[encoded data removed]",
      "text/plain": [
       "<Figure size 1440x864 with 1 Axes>"
      ]
     },
     "metadata": {
      "needs_background": "light"
     },
     "output_type": "display_data"
    }
   ],
   "source": [
    "plt.figure(figsize=(20, 12))\n",
    "plt.imshow(mapping, interpolation='nearest')\n",
    "plt.show()"
   ]
  },
  {
   "cell_type": "code",
   "execution_count": 220,
   "id": "technological-motorcycle",
   "metadata": {
    "ExecuteTime": {
     "end_time": "2023-02-03T19:28:04.417326Z",
     "start_time": "2023-02-03T19:28:04.297268Z"
    }
   },
   "outputs": [
    {
     "data": {
      "image/png": "[encoded data removed]",
      "text/plain": [
       "<Figure size 1440x864 with 1 Axes>"
      ]
     },
     "metadata": {
      "needs_background": "light"
     },
     "output_type": "display_data"
    }
   ],
   "source": [
    "plt.figure(figsize=(20, 12))\n",
    "plt.imshow(mapping, interpolation='nearest')\n",
    "plt.show()"
   ]
  },
  {
   "cell_type": "markdown",
   "id": "monetary-strain",
   "metadata": {},
   "source": [
    "## Routing"
   ]
  },
  {
   "cell_type": "code",
   "execution_count": 210,
   "id": "floppy-smile",
   "metadata": {
    "ExecuteTime": {
     "end_time": "2023-02-03T19:26:50.621778Z",
     "start_time": "2023-02-03T19:26:50.604812Z"
    }
   },
   "outputs": [],
   "source": [
    "rtest = mapping.copy()\n",
    "# rtest"
   ]
  },
  {
   "cell_type": "code",
   "execution_count": 211,
   "id": "sonic-department",
   "metadata": {
    "ExecuteTime": {
     "end_time": "2023-02-03T19:26:50.791727Z",
     "start_time": "2023-02-03T19:26:50.778737Z"
    },
    "code_folding": [
     0,
     4,
     8,
     12,
     16,
     38
    ]
   },
   "outputs": [],
   "source": [
    "def _get_north(point):\n",
    "    x, y = point\n",
    "    return (x-1,y)\n",
    "\n",
    "def _get_south(point):\n",
    "    x, y = point\n",
    "    return (x+1,y)\n",
    "\n",
    "def _get_east(point):\n",
    "    x, y = point\n",
    "    return (x,y+1)\n",
    "\n",
    "def _get_west(point):\n",
    "    x, y = point\n",
    "    return (x,y-1)\n",
    "\n",
    "def _get_city_neighbor(point, xmax, ymax):\n",
    "    x, y = point\n",
    "    neighbors = []\n",
    "    \n",
    "    if x == 0:\n",
    "        neighbors.append(_get_south(point))\n",
    "    elif x == (xmax-1):\n",
    "        neighbors.append(_get_north(point))\n",
    "    else:\n",
    "        neighbors.append(_get_south(point))\n",
    "        neighbors.append(_get_north(point))\n",
    "    \n",
    "    if y == 0:\n",
    "        neighbors.append(_get_east(point))\n",
    "    elif y == (ymax-1):\n",
    "        neighbors.append(_get_west(point))\n",
    "    else:\n",
    "        neighbors.append(_get_east(point))\n",
    "        neighbors.append(_get_west(point))\n",
    "        \n",
    "    return neighbors\n",
    "    \n",
    "def get_neighbors(point, mapping):\n",
    "\n",
    "#     x, y = point\n",
    "    xmax, ymax = mapping.shape\n",
    "    \n",
    "    points = []\n",
    "    weights = []\n",
    "    \n",
    "    neighbors = _get_city_neighbor(point, xmax, ymax)\n",
    "    \n",
    "    weights = []\n",
    "    for n in (neighbors):\n",
    "        map_weight = mapping[n[0]][n[1]]\n",
    "        if map_weight == 0:\n",
    "            weights.append(1)\n",
    "        else: #obstacle\n",
    "            weights.append(999) \n",
    "    \n",
    "    return neighbors, weights"
   ]
  },
  {
   "cell_type": "code",
   "execution_count": 212,
   "id": "breeding-effects",
   "metadata": {
    "ExecuteTime": {
     "end_time": "2023-02-03T19:26:50.961160Z",
     "start_time": "2023-02-03T19:26:50.947191Z"
    },
    "code_folding": [
     2,
     8
    ]
   },
   "outputs": [],
   "source": [
    "from queue import PriorityQueue\n",
    "\n",
    "def heuristic(start, goal): \n",
    "    x1, y1 = start\n",
    "    x2, y2 = goal\n",
    "    return abs(x1 - x2) + abs(y1 - y2)\n",
    "\n",
    "# code below based off of https://www.redblobgames.com/pathfinding/a-star/implementation.html#python-astar\n",
    "def a_star(start, goal, mapping):\n",
    "    frontier = PriorityQueue()\n",
    "    frontier.put(start, 0)\n",
    "    path = {}\n",
    "    running_cost = {}\n",
    "    \n",
    "    path[start] = None\n",
    "    running_cost[start] = 0\n",
    "    \n",
    "    while frontier.qsize() > 0:\n",
    "        current = frontier.get()\n",
    "        \n",
    "        if current == goal:\n",
    "            break\n",
    "        \n",
    "        neighbors, costs = get_neighbors(current, mapping)\n",
    "        \n",
    "        for i, nxt in enumerate(neighbors):\n",
    "            cost = costs[i]\n",
    "            new_cost = running_cost[current] + cost\n",
    "            if (nxt not in path) or (new_cost < running_cost[nxt]):\n",
    "                running_cost[nxt] = new_cost\n",
    "                priority = new_cost + heuristic(nxt, goal)\n",
    "                frontier.put(nxt, priority)\n",
    "                path[nxt] = current  \n",
    "    \n",
    "    return path, running_cost    \n",
    "    \n",
    "start = (0,14)\n",
    "goal = (20,14)\n",
    "testp = (3,14)\n",
    "\n",
    "path, cost_so_far = a_star(start, goal, rtest)"
   ]
  },
  {
   "cell_type": "code",
   "execution_count": 215,
   "id": "surprising-knitting",
   "metadata": {
    "ExecuteTime": {
     "end_time": "2023-02-03T19:26:56.222834Z",
     "start_time": "2023-02-03T19:26:56.208839Z"
    },
    "code_folding": [
     0
    ]
   },
   "outputs": [],
   "source": [
    "def make_route(path, start, goal, route=[]):\n",
    "    prev = path[goal]\n",
    "    route.append(prev)\n",
    "    \n",
    "    if prev == start:\n",
    "        return route\n",
    "    else:    \n",
    "        route = make_route(path, start, prev, route)\n",
    "        return route\n",
    "\n",
    "route = make_route(path, start, goal)\n",
    "\n",
    "route.reverse()\n",
    "route.append(goal)\n",
    "# route"
   ]
  },
  {
   "cell_type": "code",
   "execution_count": 219,
   "id": "lovely-nurse",
   "metadata": {
    "ExecuteTime": {
     "end_time": "2023-02-03T19:27:54.330150Z",
     "start_time": "2023-02-03T19:27:54.182919Z"
    }
   },
   "outputs": [
    {
     "data": {
      "image/png": "[encoded data removed]",
      "text/plain": [
       "<Figure size 1440x864 with 1 Axes>"
      ]
     },
     "metadata": {
      "needs_background": "light"
     },
     "output_type": "display_data"
    }
   ],
   "source": [
    "def draw_route(mapping, route):\n",
    "    return_map = mapping.copy()\n",
    "    for r in route:\n",
    "        return_map[r[0]][r[1]] = 2\n",
    "        \n",
    "    return return_map\n",
    "    \n",
    "path_map = draw_route(rtest, route)\n",
    "path_map[start[0]][start[1]] = 9\n",
    "path_map[goal[0]][goal[1]] = 9\n",
    "\n",
    "plt.figure(figsize=(20, 12))\n",
    "plt.imshow(path_map, interpolation='nearest')\n",
    "plt.show()"
   ]
  },
  {
   "cell_type": "code",
   "execution_count": null,
   "id": "chicken-study",
   "metadata": {},
   "outputs": [],
   "source": []
  },
  {
   "cell_type": "code",
   "execution_count": null,
   "id": "nasty-pennsylvania",
   "metadata": {},
   "outputs": [],
   "source": []
  }
 ],
 "metadata": {
  "kernelspec": {
   "display_name": "Python 3",
   "language": "python",
   "name": "python3"
  },
  "language_info": {
   "codemirror_mode": {
    "name": "ipython",
    "version": 3
   },
   "file_extension": ".py",
   "mimetype": "text/x-python",
   "name": "python",
   "nbconvert_exporter": "python",
   "pygments_lexer": "ipython3",
   "version": "3.8.8"
  }
 },
 "nbformat": 4,
 "nbformat_minor": 5
}
