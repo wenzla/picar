{
 "cells": [
  {
   "cell_type": "code",
   "execution_count": 2,
   "id": "rational-provision",
   "metadata": {
    "ExecuteTime": {
     "end_time": "2023-02-02T20:25:31.071201Z",
     "start_time": "2023-02-02T20:25:31.058226Z"
    }
   },
   "outputs": [],
   "source": [
    "import numpy as np\n",
    "import math\n",
    "np.set_printoptions(edgeitems=30, linewidth=100)"
   ]
  },
  {
   "cell_type": "code",
   "execution_count": 3,
   "id": "editorial-likelihood",
   "metadata": {
    "ExecuteTime": {
     "end_time": "2023-02-02T20:26:38.401785Z",
     "start_time": "2023-02-02T20:26:38.381449Z"
    }
   },
   "outputs": [],
   "source": [
    "test = [26.9,26.93,27.26, 26.88, 27.72, 29.26, 42.37, 41.93, 42.47, 41.78, 42.67, 43.66, -2]\n",
    "angles = np.deg2rad(np.arange(-60,70,10)) #in radians"
   ]
  },
  {
   "cell_type": "code",
   "execution_count": 4,
   "id": "theoretical-fruit",
   "metadata": {
    "ExecuteTime": {
     "end_time": "2023-02-02T20:26:38.565061Z",
     "start_time": "2023-02-02T20:26:38.545065Z"
    }
   },
   "outputs": [
    {
     "data": {
      "text/plain": [
       "(array([13.45      , 17.31027033, 20.88237152, 23.27876285, 26.04827945, 28.81547485, 42.37      ,\n",
       "        41.29298908, 39.9087456 , 36.18254137, 32.68711639, 28.06410704, -1.        ]),\n",
       " array([ 9., 10., 10., 11., 12., 13., 14., 15., 17., 18., 19., 21., 14.]))"
      ]
     },
     "execution_count": 4,
     "metadata": {},
     "output_type": "execute_result"
    }
   ],
   "source": [
    "(np.cos(angles) * test), np.round((np.sin(angles) * test)/5, 0) + 14"
   ]
  },
  {
   "cell_type": "code",
   "execution_count": 5,
   "id": "medical-cement",
   "metadata": {
    "ExecuteTime": {
     "end_time": "2023-02-02T20:26:38.721505Z",
     "start_time": "2023-02-02T20:26:38.709399Z"
    }
   },
   "outputs": [
    {
     "data": {
      "text/plain": [
       "(array([ 9.,  9., 10., 11., 12., 12., 14., 15., 16., 18., 19., 20., 13.]),\n",
       " array([ 2.,  3.,  4.,  4.,  5.,  5.,  8.,  8.,  7.,  7.,  6.,  5., -1.]))"
      ]
     },
     "execution_count": 5,
     "metadata": {},
     "output_type": "execute_result"
    }
   ],
   "source": [
    "((np.sin(angles) * test)//5)+14, (np.cos(angles) * test)//5"
   ]
  },
  {
   "cell_type": "code",
   "execution_count": 53,
   "id": "visible-cooking",
   "metadata": {
    "ExecuteTime": {
     "end_time": "2023-02-02T21:25:21.182937Z",
     "start_time": "2023-02-02T21:25:21.167812Z"
    }
   },
   "outputs": [],
   "source": [
    "xvals = (np.round((np.sin(angles) * test)/5, 0)+14).astype(int)\n",
    "yvals = ((np.cos(angles) * test)//5).astype(int)\n"
   ]
  },
  {
   "cell_type": "code",
   "execution_count": 69,
   "id": "specific-array",
   "metadata": {
    "ExecuteTime": {
     "end_time": "2023-02-02T21:30:08.395704Z",
     "start_time": "2023-02-02T21:30:08.390708Z"
    }
   },
   "outputs": [],
   "source": [
    "mapping = np.zeros([30,30], dtype='int')\n",
    "\n",
    "mapping[0][14] = 3\n",
    "mapping[20][14] = 3"
   ]
  },
  {
   "cell_type": "code",
   "execution_count": 70,
   "id": "committed-territory",
   "metadata": {
    "ExecuteTime": {
     "end_time": "2023-02-02T21:30:11.566611Z",
     "start_time": "2023-02-02T21:30:11.550017Z"
    },
    "code_folding": [
     0,
     17,
     32
    ]
   },
   "outputs": [],
   "source": [
    "def check_way(p1,p2):\n",
    "    dec0=False\n",
    "    dec1=False\n",
    "    inc0=False\n",
    "    inc1=False\n",
    "    \n",
    "    if p1[0] < p2[0]:\n",
    "        inc0=True\n",
    "    elif p1[0] > p2[0]:\n",
    "        dec0=True\n",
    "\n",
    "    if p1[1] < p2[1]:\n",
    "        inc1=True\n",
    "    elif p1[1] > p2[1]:\n",
    "        dec1=True\n",
    "    return inc0, dec0, inc1, dec1\n",
    "\n",
    "def incremental_step(newp, p2, inc0, dec0, inc1, dec1):\n",
    "    add0 = 1\n",
    "    add1 = 1\n",
    "    if dec0:\n",
    "        add0 = -1\n",
    "    if dec1:\n",
    "        add1 = -1\n",
    "        \n",
    "    if math.dist([newp[0]+add0, newp[1]], p2) > math.dist([newp[0], newp[1]+add1], p2):\n",
    "        newp[1] += add1\n",
    "    else:\n",
    "        newp[0] += add0\n",
    "        \n",
    "    return newp\n",
    "\n",
    "def get_manhattan(p1, p2):\n",
    "    if (math.dist(p1,p2)) < 4:\n",
    "        inc0, dec0, inc1, dec1 = check_way(p1,p2)\n",
    "        \n",
    "        newp = p1\n",
    "        path_list = []\n",
    "        times = 0\n",
    "        \n",
    "        while (math.dist(newp, p2) > 0) and (times < 6):\n",
    "            newp = incremental_step(newp, p2, inc0, dec0, inc1, dec1)\n",
    "            path_list.append(newp.copy())\n",
    "            inc0, dec0, inc1, dec1 = check_way(p1,p2)\n",
    "            times += 1\n",
    "            \n",
    "        if times == 7:\n",
    "            return None\n",
    "        else:\n",
    "            return path_list[:-1]#remove last element\n",
    "        \n",
    "    return None\n"
   ]
  },
  {
   "cell_type": "code",
   "execution_count": 71,
   "id": "spoken-taxation",
   "metadata": {
    "ExecuteTime": {
     "end_time": "2023-02-02T21:30:11.755700Z",
     "start_time": "2023-02-02T21:30:11.750699Z"
    },
    "code_folding": [
     0
    ]
   },
   "outputs": [],
   "source": [
    "def make_scan_list(possible):\n",
    "    \n",
    "    scan_list = []\n",
    "    temp = [list(p) for p in possible if p[0] != -1]\n",
    "    \n",
    "    for i in range(len(temp)-1):\n",
    "        scan_list.append(temp[i])\n",
    "        \n",
    "        for path in get_manhattan(temp[i], temp[i+1]):\n",
    "            scan_list.append(path)\n",
    "        \n",
    "    scan_list.append(temp[-1])\n",
    "    \n",
    "    return scan_list\n",
    "\n",
    "# make_scan_list(list(zip(yvals, xvals))) "
   ]
  },
  {
   "cell_type": "code",
   "execution_count": 72,
   "id": "robust-radiation",
   "metadata": {
    "ExecuteTime": {
     "end_time": "2023-02-02T21:30:11.970713Z",
     "start_time": "2023-02-02T21:30:11.960710Z"
    },
    "code_folding": [
     0
    ]
   },
   "outputs": [
    {
     "data": {
      "text/plain": [
       "array([[0, 0, 0, 0, 0, 0, 0, 0, 0, 0, 0, 0, 0, 0, 3, 0, 0, 0, 0, 0, 0, 0, 0, 0, 0, 0, 0, 0, 0, 0],\n",
       "       [0, 0, 0, 0, 0, 0, 0, 0, 0, 0, 0, 0, 0, 0, 0, 0, 0, 0, 0, 0, 0, 0, 0, 0, 0, 0, 0, 0, 0, 0],\n",
       "       [0, 0, 0, 0, 0, 0, 0, 0, 1, 1, 1, 1, 0, 0, 0, 0, 0, 0, 0, 0, 0, 0, 0, 0, 0, 0, 0, 0, 0, 0],\n",
       "       [0, 0, 0, 0, 0, 0, 0, 0, 1, 1, 1, 1, 1, 0, 0, 0, 0, 0, 0, 0, 0, 0, 0, 0, 0, 0, 0, 0, 0, 0],\n",
       "       [0, 0, 0, 0, 0, 0, 0, 0, 1, 1, 1, 1, 1, 1, 1, 0, 0, 0, 0, 1, 1, 1, 1, 0, 0, 0, 0, 0, 0, 0],\n",
       "       [0, 0, 0, 0, 0, 0, 0, 0, 0, 1, 1, 1, 1, 1, 1, 0, 0, 1, 1, 1, 1, 1, 1, 0, 0, 0, 0, 0, 0, 0],\n",
       "       [0, 0, 0, 0, 0, 0, 0, 0, 0, 0, 1, 1, 1, 1, 1, 1, 1, 1, 1, 1, 1, 1, 1, 0, 0, 0, 0, 0, 0, 0],\n",
       "       [0, 0, 0, 0, 0, 0, 0, 0, 0, 0, 0, 0, 1, 1, 1, 1, 1, 1, 1, 1, 1, 1, 0, 0, 0, 0, 0, 0, 0, 0],\n",
       "       [0, 0, 0, 0, 0, 0, 0, 0, 0, 0, 0, 0, 1, 1, 1, 1, 1, 1, 1, 1, 0, 0, 0, 0, 0, 0, 0, 0, 0, 0],\n",
       "       [0, 0, 0, 0, 0, 0, 0, 0, 0, 0, 0, 0, 1, 1, 1, 1, 1, 1, 0, 0, 0, 0, 0, 0, 0, 0, 0, 0, 0, 0],\n",
       "       [0, 0, 0, 0, 0, 0, 0, 0, 0, 0, 0, 0, 0, 0, 0, 0, 0, 0, 0, 0, 0, 0, 0, 0, 0, 0, 0, 0, 0, 0],\n",
       "       [0, 0, 0, 0, 0, 0, 0, 0, 0, 0, 0, 0, 0, 0, 0, 0, 0, 0, 0, 0, 0, 0, 0, 0, 0, 0, 0, 0, 0, 0],\n",
       "       [0, 0, 0, 0, 0, 0, 0, 0, 0, 0, 0, 0, 0, 0, 0, 0, 0, 0, 0, 0, 0, 0, 0, 0, 0, 0, 0, 0, 0, 0],\n",
       "       [0, 0, 0, 0, 0, 0, 0, 0, 0, 0, 0, 0, 0, 0, 0, 0, 0, 0, 0, 0, 0, 0, 0, 0, 0, 0, 0, 0, 0, 0],\n",
       "       [0, 0, 0, 0, 0, 0, 0, 0, 0, 0, 0, 0, 0, 0, 0, 0, 0, 0, 0, 0, 0, 0, 0, 0, 0, 0, 0, 0, 0, 0],\n",
       "       [0, 0, 0, 0, 0, 0, 0, 0, 0, 0, 0, 0, 0, 0, 0, 0, 0, 0, 0, 0, 0, 0, 0, 0, 0, 0, 0, 0, 0, 0],\n",
       "       [0, 0, 0, 0, 0, 0, 0, 0, 0, 0, 0, 0, 0, 0, 0, 0, 0, 0, 0, 0, 0, 0, 0, 0, 0, 0, 0, 0, 0, 0],\n",
       "       [0, 0, 0, 0, 0, 0, 0, 0, 0, 0, 0, 0, 0, 0, 0, 0, 0, 0, 0, 0, 0, 0, 0, 0, 0, 0, 0, 0, 0, 0],\n",
       "       [0, 0, 0, 0, 0, 0, 0, 0, 0, 0, 0, 0, 0, 0, 0, 0, 0, 0, 0, 0, 0, 0, 0, 0, 0, 0, 0, 0, 0, 0],\n",
       "       [0, 0, 0, 0, 0, 0, 0, 0, 0, 0, 0, 0, 0, 0, 0, 0, 0, 0, 0, 0, 0, 0, 0, 0, 0, 0, 0, 0, 0, 0],\n",
       "       [0, 0, 0, 0, 0, 0, 0, 0, 0, 0, 0, 0, 0, 0, 3, 0, 0, 0, 0, 0, 0, 0, 0, 0, 0, 0, 0, 0, 0, 0],\n",
       "       [0, 0, 0, 0, 0, 0, 0, 0, 0, 0, 0, 0, 0, 0, 0, 0, 0, 0, 0, 0, 0, 0, 0, 0, 0, 0, 0, 0, 0, 0],\n",
       "       [0, 0, 0, 0, 0, 0, 0, 0, 0, 0, 0, 0, 0, 0, 0, 0, 0, 0, 0, 0, 0, 0, 0, 0, 0, 0, 0, 0, 0, 0],\n",
       "       [0, 0, 0, 0, 0, 0, 0, 0, 0, 0, 0, 0, 0, 0, 0, 0, 0, 0, 0, 0, 0, 0, 0, 0, 0, 0, 0, 0, 0, 0],\n",
       "       [0, 0, 0, 0, 0, 0, 0, 0, 0, 0, 0, 0, 0, 0, 0, 0, 0, 0, 0, 0, 0, 0, 0, 0, 0, 0, 0, 0, 0, 0],\n",
       "       [0, 0, 0, 0, 0, 0, 0, 0, 0, 0, 0, 0, 0, 0, 0, 0, 0, 0, 0, 0, 0, 0, 0, 0, 0, 0, 0, 0, 0, 0],\n",
       "       [0, 0, 0, 0, 0, 0, 0, 0, 0, 0, 0, 0, 0, 0, 0, 0, 0, 0, 0, 0, 0, 0, 0, 0, 0, 0, 0, 0, 0, 0],\n",
       "       [0, 0, 0, 0, 0, 0, 0, 0, 0, 0, 0, 0, 0, 0, 0, 0, 0, 0, 0, 0, 0, 0, 0, 0, 0, 0, 0, 0, 0, 0],\n",
       "       [0, 0, 0, 0, 0, 0, 0, 0, 0, 0, 0, 0, 0, 0, 0, 0, 0, 0, 0, 0, 0, 0, 0, 0, 0, 0, 0, 0, 0, 0],\n",
       "       [0, 0, 0, 0, 0, 0, 0, 0, 0, 0, 0, 0, 0, 0, 0, 0, 0, 0, 0, 0, 0, 0, 0, 0, 0, 0, 0, 0, 0, 0]])"
      ]
     },
     "execution_count": 72,
     "metadata": {},
     "output_type": "execute_result"
    }
   ],
   "source": [
    "def make_safety_zone(x,y,mapping):\n",
    "\n",
    "    mapping[x-1][y-1] = 1\n",
    "    mapping[x-1][y] = 1\n",
    "    mapping[x-1][y+1] = 1\n",
    "    \n",
    "    mapping[x][y-1] = 1\n",
    "    mapping[x][y] = 1\n",
    "    mapping[x][y+1] = 1\n",
    "    \n",
    "    mapping[x+1][y-1] = 1\n",
    "    mapping[x+1][y] = 1\n",
    "    mapping[x+1][y+1] = 1\n",
    "    \n",
    "    return mapping\n",
    "\n",
    "scan_list = make_scan_list(list(zip(yvals, xvals))) \n",
    "for pair in scan_list:\n",
    "    if pair[0] != -1:\n",
    "#         print(pair[0],pair[1])\n",
    "        mapping[pair[0]][pair[1]] = 1\n",
    "        mapping = make_safety_zone(pair[0],pair[1],mapping)\n",
    "    \n",
    "mapping"
   ]
  },
  {
   "cell_type": "code",
   "execution_count": null,
   "id": "finished-encoding",
   "metadata": {},
   "outputs": [],
   "source": []
  }
 ],
 "metadata": {
  "kernelspec": {
   "display_name": "Python 3",
   "language": "python",
   "name": "python3"
  },
  "language_info": {
   "codemirror_mode": {
    "name": "ipython",
    "version": 3
   },
   "file_extension": ".py",
   "mimetype": "text/x-python",
   "name": "python",
   "nbconvert_exporter": "python",
   "pygments_lexer": "ipython3",
   "version": "3.8.8"
  }
 },
 "nbformat": 4,
 "nbformat_minor": 5
}
